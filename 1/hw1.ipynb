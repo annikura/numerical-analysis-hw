{
 "cells": [
  {
   "cell_type": "markdown",
   "metadata": {},
   "source": [
    "### Задание 2\n",
    "\n",
    "#### a)\n",
    "    \n",
    "$$|R_N| \\le \\int_N^\\infty \\frac{1}{k^2 - k - z} \\le \\int_N^\\infty \\frac{1}{(k - 2)^2} \\le \\varepsilon = 10^{-6}$$\n",
    "\n",
    "$$|R_N| \\le \\frac{1}{N - 2} \\le 10^{-6} $$\n",
    "\n",
    "$$|R_N| \\le \\varepsilon \\Rightarrow N \\ge 10^6 + 2$$\n"
   ]
  },
  {
   "cell_type": "code",
   "execution_count": null,
   "metadata": {},
   "outputs": [],
   "source": [
    "%matplotlib nbagg\n",
    "\n",
    "import matplotlib.pyplot as plt\n",
    "\n",
    "eps = 10**(-6)\n",
    "xs = []\n",
    "ys = []\n",
    "\n",
    "min_x = 0.01\n",
    "max_x = 2 - 0.01\n",
    "x = min_x\n",
    "\n",
    "while x < max_x:\n",
    "    y = 0.0\n",
    "    for i in range(1, 10**6 + 3):\n",
    "        y += 1.0 / (float(i ** 2) - float(i) - x)\n",
    "    xs.append(x)\n",
    "    ys.append(y)\n",
    "    x += 0.01\n",
    "\n",
    "plt.plot(xs, ys)\n",
    "plt.show()"
   ]
  },
  {
   "cell_type": "markdown",
   "metadata": {},
   "source": [
    "#### b)\n",
    "\n",
    "Вычтем ряд $\\sum_{1}^{\\infty} \\frac{1}{k(k + 1)} = 1$. Получим\n",
    "\n",
    "$$\\sum_{1}^{\\infty} \\frac{1}{k^2 - k - z} - \\sum_{1}^{\\infty} \\frac{1}{k(k + 1)} \\le \\sum_{1}^{\\infty} \\frac{1}{(k - 2)(k + 1)} - \\sum_{1}^{\\infty} \\frac{1}{k(k + 1)} = \\sum_{1}^{\\infty} \\frac{2}{k(k + 1)(k - 2)} \\le \\sum_{1}^{\\infty} \\frac 1 {(k - 2)^3}$$\n",
    "\n",
    "$$ |R_N| = \\sum_{N + 1}^{\\infty} \\frac 1 {(k - 2)^3} \\le \\int_{N}^{\\infty} \\frac 1 {(k - 2)^3} = \\frac{1}{2(N - 2)^2} < \\varepsilon \\Rightarrow N \\ge \\sqrt{\\frac{1}{2}} * 1000 + 2$$\n",
    "\n",
    "Получили, что ряд, оставшийся после вычетания сходится к нужной ошибке даже быстрее чем за $\\sqrt{\\frac{1}{2}} * 1000 + 2$\n",
    "\n",
    "#### c)"
   ]
  },
  {
   "cell_type": "code",
   "execution_count": null,
   "metadata": {},
   "outputs": [],
   "source": [
    "import matplotlib.pyplot as plt\n",
    "\n",
    "eps = 10**(-6)\n",
    "xs = []\n",
    "ys = []\n",
    "\n",
    "min_x = 0.01\n",
    "max_x = 2 - 0.01\n",
    "x = min_x\n",
    "\n",
    "while x < max_x:\n",
    "    y1 = 0.0\n",
    "    y2 = 0.0\n",
    "    for i in range(1, 10**6 + 3):\n",
    "        y1 += 1.0 / (float(i ** 2) - float(i) - x)\n",
    "        y2 += (2.0 * float(i) + x) / ((float(i ** 2) - float(i) - x) * i * (i + 1))\n",
    "    xs.append(x)\n",
    "    ys.append(y1 - y2 - 1.0)\n",
    "    x += 0.01\n",
    "\n",
    "plt.plot(xs, ys)\n",
    "plt.show()\n"
   ]
  },
  {
   "cell_type": "markdown",
   "metadata": {},
   "source": [
    "Действительно, нужная точность достигается. Все значения на графике строго меньше, чем $2\\varepsilon$\n",
    "\n",
    "### Задание 3\n",
    "\n"
   ]
  }
 ],
 "metadata": {
  "kernelspec": {
   "display_name": "Python 2",
   "language": "python",
   "name": "python2"
  },
  "language_info": {
   "codemirror_mode": {
    "name": "ipython",
    "version": 3
   },
   "file_extension": ".py",
   "mimetype": "text/x-python",
   "name": "python",
   "nbconvert_exporter": "python",
   "pygments_lexer": "ipython3",
   "version": "3.6.6"
  }
 },
 "nbformat": 4,
 "nbformat_minor": 2
}
